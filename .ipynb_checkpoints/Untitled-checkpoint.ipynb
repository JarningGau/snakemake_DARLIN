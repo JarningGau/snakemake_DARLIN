{
 "cells": [
  {
   "cell_type": "code",
   "execution_count": 9,
   "id": "913177db-2f56-4e0b-995f-eabb58834c0a",
   "metadata": {},
   "outputs": [
    {
     "name": "stdout",
     "output_type": "stream",
     "text": [
      "/n/data1/bch/hemonc/camargo/li/DATA/20211010_3_pulses_cCARLIN_Tigre/raw_fastq\n"
     ]
    }
   ],
   "source": [
    "config={}\n",
    "config['data_dir']='/n/data1/bch/hemonc/camargo/li/DATA/20211010_3_pulses_cCARLIN_Tigre'\n",
    "work_dir=config['data_dir']\n",
    "\n",
    "import pandas as pd\n",
    "import glob\n",
    "import re\n",
    "SampleList = []\n",
    "locations=[]\n",
    "for file in glob.glob(config['data_dir'] + \"/raw_fastq\", recursive=True):\n",
    "    print(file)\n",
    "    if '_L001_R1_001.fastq.gz' in file:\n",
    "        print(file)\n",
    "        sample_name = file.split('/')[-1].split('_L001_R1')[0]\n",
    "        SampleList.append(sample_name)\n",
    "\n",
    "df=pd.DataFrame({'Sample':SampleList})     \n",
    "df.to_csv(f'{work_dir}/raw_fastq/sample_info_1.csv')"
   ]
  },
  {
   "cell_type": "code",
   "execution_count": 7,
   "id": "31e2cc50-2616-4b88-9f4f-51522409360a",
   "metadata": {},
   "outputs": [
    {
     "data": {
      "text/plain": [
       "'/n/data1/bch/hemonc/camargo/li/DATA/20211010_3_pulses_cCARLIN_Tigre/raw_fastq'"
      ]
     },
     "execution_count": 7,
     "metadata": {},
     "output_type": "execute_result"
    }
   ],
   "source": [
    "file"
   ]
  },
  {
   "cell_type": "code",
   "execution_count": 15,
   "id": "e0709d33-0e73-4f74-a407-79c3d4d0644f",
   "metadata": {},
   "outputs": [],
   "source": [
    "import os\n",
    "import pandas as pd\n",
    "import argparse\n",
    "from os import listdir\n",
    "from os.path import isfile, join\n",
    "# parse cmd line arguments\n",
    "parser = argparse.ArgumentParser(description=\"Download data\")\n",
    "parser.add_argument(\n",
    "    \"--project_name\",\n",
    "    type=str,\n",
    "    default=\".\",\n",
    "    help=\"project name from base space.\",\n",
    ")\n",
    "\n",
    "parser.add_argument(\n",
    "    \"--project_ID\",\n",
    "    type=str,\n",
    "    default=\".\",\n",
    "    help=\"project ID from base space.\",\n",
    ")\n",
    "\n",
    "parser.add_argument(\n",
    "    \"--data_path\",\n",
    "    type=str,\n",
    "    default=\".\",\n",
    "    help=\"Path to download all data\",\n",
    ")\n",
    "project_name = parser.parse_args().project_name\n",
    "project_ID = parser.parse_args().project_ID\n",
    "data_path = parser.parse_args().data_path\n",
    "\n",
    "\n",
    "## step one, download data\n",
    "os.system(f'./download_fastq.sh {project_name} {project_ID} {data_path}')\n",
    "\n",
    "\n",
    "## step two, get sample information\n",
    "SampleList = []\n",
    "SampleID = []\n",
    "SampleShortName = []\n",
    "mypath=f'{data_path}/raw_fastq'\n",
    "onlyfiles = [f for f in listdir(mypath) if isfile(join(mypath, f))]\n",
    "for file in onlyfiles:\n",
    "    if '_L001_R1_001.fastq.gz' in file:\n",
    "        sample_name = file.split('/')[-1].split('_L001_R1')[0]\n",
    "        SampleList.append(sample_name)\n",
    "        SampleShortName.append(sample_name.split('_')[0])\n",
    "        SampleID.append(sample_name.split('_')[1])\n",
    "        \n",
    "df=pd.DataFrame({'Sample_long':SampleList,'Sample_ID':SampleID,'Sample_short':SampleShortName})     \n",
    "df.to_csv(f'{data_path}/raw_fastq/sample_info_1.csv')\n",
    "\n",
    "\n"
   ]
  },
  {
   "cell_type": "code",
   "execution_count": 16,
   "id": "de62ea67-d114-4deb-91e7-6c40c3b928d4",
   "metadata": {},
   "outputs": [
    {
     "data": {
      "text/html": [
       "<div>\n",
       "<style scoped>\n",
       "    .dataframe tbody tr th:only-of-type {\n",
       "        vertical-align: middle;\n",
       "    }\n",
       "\n",
       "    .dataframe tbody tr th {\n",
       "        vertical-align: top;\n",
       "    }\n",
       "\n",
       "    .dataframe thead th {\n",
       "        text-align: right;\n",
       "    }\n",
       "</style>\n",
       "<table border=\"1\" class=\"dataframe\">\n",
       "  <thead>\n",
       "    <tr style=\"text-align: right;\">\n",
       "      <th></th>\n",
       "      <th>Sample_long</th>\n",
       "      <th>Sample_ID</th>\n",
       "      <th>Sample_short</th>\n",
       "    </tr>\n",
       "  </thead>\n",
       "  <tbody>\n",
       "    <tr>\n",
       "      <th>0</th>\n",
       "      <td>LL607-MPP3-4_S6</td>\n",
       "      <td>S6</td>\n",
       "      <td>LL607-MPP3-4</td>\n",
       "    </tr>\n",
       "    <tr>\n",
       "      <th>1</th>\n",
       "      <td>LL607-LK_S7</td>\n",
       "      <td>S7</td>\n",
       "      <td>LL607-LK</td>\n",
       "    </tr>\n",
       "    <tr>\n",
       "      <th>2</th>\n",
       "      <td>LL605-MPP2_S1</td>\n",
       "      <td>S1</td>\n",
       "      <td>LL605-MPP2</td>\n",
       "    </tr>\n",
       "    <tr>\n",
       "      <th>3</th>\n",
       "      <td>1_S1</td>\n",
       "      <td>S1</td>\n",
       "      <td>1</td>\n",
       "    </tr>\n",
       "    <tr>\n",
       "      <th>4</th>\n",
       "      <td>LL605-LK_S3</td>\n",
       "      <td>S3</td>\n",
       "      <td>LL605-LK</td>\n",
       "    </tr>\n",
       "    <tr>\n",
       "      <th>5</th>\n",
       "      <td>LL607-MPP2_S5</td>\n",
       "      <td>S5</td>\n",
       "      <td>LL607-MPP2</td>\n",
       "    </tr>\n",
       "    <tr>\n",
       "      <th>6</th>\n",
       "      <td>LL607-HSC_S8</td>\n",
       "      <td>S8</td>\n",
       "      <td>LL607-HSC</td>\n",
       "    </tr>\n",
       "    <tr>\n",
       "      <th>7</th>\n",
       "      <td>LL605-HSC_S4</td>\n",
       "      <td>S4</td>\n",
       "      <td>LL605-HSC</td>\n",
       "    </tr>\n",
       "    <tr>\n",
       "      <th>8</th>\n",
       "      <td>LL605-MPP3-4_S2</td>\n",
       "      <td>S2</td>\n",
       "      <td>LL605-MPP3-4</td>\n",
       "    </tr>\n",
       "  </tbody>\n",
       "</table>\n",
       "</div>"
      ],
      "text/plain": [
       "       Sample_long Sample_ID  Sample_short\n",
       "0  LL607-MPP3-4_S6        S6  LL607-MPP3-4\n",
       "1      LL607-LK_S7        S7      LL607-LK\n",
       "2    LL605-MPP2_S1        S1    LL605-MPP2\n",
       "3             1_S1        S1             1\n",
       "4      LL605-LK_S3        S3      LL605-LK\n",
       "5    LL607-MPP2_S5        S5    LL607-MPP2\n",
       "6     LL607-HSC_S8        S8     LL607-HSC\n",
       "7     LL605-HSC_S4        S4     LL605-HSC\n",
       "8  LL605-MPP3-4_S2        S2  LL605-MPP3-4"
      ]
     },
     "execution_count": 16,
     "metadata": {},
     "output_type": "execute_result"
    }
   ],
   "source": [
    "df"
   ]
  },
  {
   "cell_type": "code",
   "execution_count": null,
   "id": "4c93649b-8945-4709-bc6d-8c4e0ad847c9",
   "metadata": {},
   "outputs": [],
   "source": []
  }
 ],
 "metadata": {
  "kernelspec": {
   "display_name": "Python 3 (ipykernel)",
   "language": "python",
   "name": "python3"
  },
  "language_info": {
   "codemirror_mode": {
    "name": "ipython",
    "version": 3
   },
   "file_extension": ".py",
   "mimetype": "text/x-python",
   "name": "python",
   "nbconvert_exporter": "python",
   "pygments_lexer": "ipython3",
   "version": "3.9.1"
  }
 },
 "nbformat": 4,
 "nbformat_minor": 5
}
