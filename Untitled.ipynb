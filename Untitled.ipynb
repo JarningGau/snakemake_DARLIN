{
 "cells": [
  {
   "cell_type": "code",
   "execution_count": 9,
   "id": "913177db-2f56-4e0b-995f-eabb58834c0a",
   "metadata": {},
   "outputs": [
    {
     "name": "stdout",
     "output_type": "stream",
     "text": [
      "/n/data1/bch/hemonc/camargo/li/DATA/20211010_3_pulses_cCARLIN_Tigre/raw_fastq\n"
     ]
    }
   ],
   "source": [
    "config={}\n",
    "config['data_dir']='/n/data1/bch/hemonc/camargo/li/DATA/20211010_3_pulses_cCARLIN_Tigre'\n",
    "work_dir=config['data_dir']\n",
    "\n",
    "import pandas as pd\n",
    "import glob\n",
    "import re\n",
    "SampleList = []\n",
    "locations=[]\n",
    "for file in glob.glob(config['data_dir'] + \"/raw_fastq\", recursive=True):\n",
    "    print(file)\n",
    "    if '_L001_R1_001.fastq.gz' in file:\n",
    "        print(file)\n",
    "        sample_name = file.split('/')[-1].split('_L001_R1')[0]\n",
    "        SampleList.append(sample_name)\n",
    "\n",
    "df=pd.DataFrame({'Sample':SampleList})     \n",
    "df.to_csv(f'{work_dir}/raw_fastq/sample_info_1.csv')"
   ]
  },
  {
   "cell_type": "code",
   "execution_count": 5,
   "id": "31e2cc50-2616-4b88-9f4f-51522409360a",
   "metadata": {},
   "outputs": [],
   "source": [
    "import os\n",
    "os.makedirs(f'merge_all',exist_ok=True)"
   ]
  },
  {
   "cell_type": "code",
   "execution_count": 15,
   "id": "e0709d33-0e73-4f74-a407-79c3d4d0644f",
   "metadata": {},
   "outputs": [],
   "source": [
    "import os\n",
    "import pandas as pd\n",
    "import argparse\n",
    "from os import listdir\n",
    "from os.path import isfile, join\n",
    "# parse cmd line arguments\n",
    "parser = argparse.ArgumentParser(description=\"Download data\")\n",
    "parser.add_argument(\n",
    "    \"--project_name\",\n",
    "    type=str,\n",
    "    default=\".\",\n",
    "    help=\"project name from base space.\",\n",
    ")\n",
    "\n",
    "parser.add_argument(\n",
    "    \"--project_ID\",\n",
    "    type=str,\n",
    "    default=\".\",\n",
    "    help=\"project ID from base space.\",\n",
    ")\n",
    "\n",
    "parser.add_argument(\n",
    "    \"--data_path\",\n",
    "    type=str,\n",
    "    default=\".\",\n",
    "    help=\"Path to download all data\",\n",
    ")\n",
    "project_name = parser.parse_args().project_name\n",
    "project_ID = parser.parse_args().project_ID\n",
    "data_path = parser.parse_args().data_path\n",
    "\n",
    "\n",
    "## step one, download data\n",
    "os.system(f'./download_fastq.sh {project_name} {project_ID} {data_path}')\n",
    "\n",
    "\n",
    "## step two, get sample information\n",
    "SampleList = []\n",
    "SampleID = []\n",
    "SampleShortName = []\n",
    "mypath=f'{data_path}/raw_fastq'\n",
    "onlyfiles = [f for f in listdir(mypath) if isfile(join(mypath, f))]\n",
    "for file in onlyfiles:\n",
    "    if '_L001_R1_001.fastq.gz' in file:\n",
    "        sample_name = file.split('/')[-1].split('_L001_R1')[0]\n",
    "        SampleList.append(sample_name)\n",
    "        SampleShortName.append(sample_name.split('_')[0])\n",
    "        SampleID.append(sample_name.split('_')[1])\n",
    "        \n",
    "df=pd.DataFrame({'Sample_long':SampleList,'Sample_ID':SampleID,'Sample_short':SampleShortName})     \n",
    "df.to_csv(f'{data_path}/raw_fastq/sample_info_1.csv')\n",
    "\n",
    "\n"
   ]
  },
  {
   "cell_type": "code",
   "execution_count": 19,
   "id": "de62ea67-d114-4deb-91e7-6c40c3b928d4",
   "metadata": {},
   "outputs": [],
   "source": [
    "df=pd.read_csv(f'/n/data1/bch/hemonc/camargo/li/DATA/20211010_3_pulses_cCARLIN_Tigre/raw_fastq/sample_info.csv')"
   ]
  },
  {
   "cell_type": "code",
   "execution_count": 22,
   "id": "4c93649b-8945-4709-bc6d-8c4e0ad847c9",
   "metadata": {},
   "outputs": [
    {
     "data": {
      "text/plain": [
       "['LL607-MPP3-4_S6',\n",
       " 'LL607-LK_S7',\n",
       " 'LL605-MPP2_S1',\n",
       " '1_S1',\n",
       " 'LL605-LK_S3',\n",
       " 'LL607-MPP2_S5',\n",
       " 'LL607-HSC_S8',\n",
       " 'LL605-HSC_S4',\n",
       " 'LL605-MPP3-4_S2']"
      ]
     },
     "execution_count": 22,
     "metadata": {},
     "output_type": "execute_result"
    }
   ],
   "source": [
    "list(df['Sample_long'])"
   ]
  },
  {
   "cell_type": "code",
   "execution_count": 12,
   "id": "f7e66a46-2047-453b-9b8d-cd9f3868d885",
   "metadata": {},
   "outputs": [
    {
     "data": {
      "text/plain": [
       "256"
      ]
     },
     "execution_count": 12,
     "metadata": {},
     "output_type": "execute_result"
    }
   ],
   "source": [
    "import os\n",
    "os.system('sh run_CARLIN111(1,2)')"
   ]
  },
  {
   "cell_type": "code",
   "execution_count": 8,
   "id": "5b0332b4-e5d4-4a4b-867b-0da820d68cda",
   "metadata": {},
   "outputs": [
    {
     "data": {
      "text/plain": [
       "'1/pear_output'"
      ]
     },
     "execution_count": 8,
     "metadata": {},
     "output_type": "execute_result"
    }
   ],
   "source": [
    "config={}\n",
    "config['data_dir']='1'\n",
    "config['read_cutoff_override']=10\n",
    "config['data_dir']+'/pear_output'"
   ]
  },
  {
   "cell_type": "code",
   "execution_count": 10,
   "id": "43db743f-f0c3-407f-be38-adeccb72ffef",
   "metadata": {},
   "outputs": [
    {
     "data": {
      "text/plain": [
       "'1/CARLIN/read_cutoff_override_10'"
      ]
     },
     "execution_count": 10,
     "metadata": {},
     "output_type": "execute_result"
    }
   ],
   "source": [
    "config['data_dir']+'/CARLIN/read_cutoff_override_'+str(config['read_cutoff_override'])"
   ]
  },
  {
   "cell_type": "code",
   "execution_count": null,
   "id": "04c1f684-1774-458d-bf70-d1d011649c10",
   "metadata": {},
   "outputs": [],
   "source": []
  },
  {
   "cell_type": "code",
   "execution_count": 1,
   "id": "49a51515-54a6-4387-8572-cd2e55f69215",
   "metadata": {},
   "outputs": [],
   "source": [
    "abc=\"992K\t/n/data1/bch/hemonc/camargo/li/CARLIN_pipeline/Custom_CARLIN/tests/Tigre_Carlin_test/test_Tigre_Carlin.trimmed.pear.assembled.fastq\""
   ]
  },
  {
   "cell_type": "code",
   "execution_count": 3,
   "id": "05dbd2b3-cf17-486c-bf69-f4adbb355023",
   "metadata": {},
   "outputs": [
    {
     "data": {
      "text/plain": [
       "'992K'"
      ]
     },
     "execution_count": 3,
     "metadata": {},
     "output_type": "execute_result"
    }
   ],
   "source": [
    "abc.split('\\t')[0]"
   ]
  },
  {
   "cell_type": "code",
   "execution_count": 6,
   "id": "076c4574-22d0-4a11-a4f3-eb54706c851d",
   "metadata": {},
   "outputs": [
    {
     "data": {
      "text/plain": [
       "1"
      ]
     },
     "execution_count": 6,
     "metadata": {},
     "output_type": "execute_result"
    }
   ],
   "source": [
    "import numpy as np\n",
    "int(1.1)"
   ]
  },
  {
   "cell_type": "code",
   "execution_count": 9,
   "id": "282c6d12-b863-4f2c-959d-efb85c34194f",
   "metadata": {},
   "outputs": [],
   "source": [
    "output_dir='/n/data1/bch/hemonc/camargo/li/DATA/20211010_3_pulses_cCARLIN/CARLIN/results_cutoff_override_3'"
   ]
  },
  {
   "cell_type": "code",
   "execution_count": 11,
   "id": "c9185dc7-0f41-4ffd-b480-fb8086e5965f",
   "metadata": {},
   "outputs": [
    {
     "data": {
      "image/png": "[encoded data removed]",
      "text/plain": [
       "<Figure size 1200x600 with 2 Axes>"
      ]
     },
     "metadata": {
      "needs_background": "light"
     },
     "output_type": "display_data"
    }
   ],
   "source": [
    "import os\n",
    "from scipy.io import loadmat\n",
    "import seaborn as sns\n",
    "from matplotlib import pyplot as plt\n",
    "%matplotlib inline\n",
    "from matplotlib import rcParams, cm, colors, cbook\n",
    "rcParams[\"figure.dpi\"] = 150\n",
    "import numpy as np\n",
    "\n",
    "f, axs = plt.subplots(1, 2, figsize=(8, 4),gridspec_kw=dict(width_ratios=[4, 3]))\n",
    "data=loadmat(f'{output_dir}/merge_all/allele_breakdown_by_sample.mat')\n",
    "allele_summary=(data['allele_breakdown_by_sample']>0).sum(1)\n",
    "ratio=np.sum(allele_summary==1)/np.sum(allele_summary==2)\n",
    "ax=sns.histplot(allele_summary,ax=axs[0])\n",
    "ax.set_ylabel('Allele acount')\n",
    "ax.set_xlabel('Occurance in # of mouses')\n",
    "ax.set_title(f'Occ. ratio (1)/(2)={ratio:.1f}')\n",
    "\n",
    "\n",
    "unique_ratio=np.sum(allele_summary==1)/np.sum(allele_summary>0)\n",
    "ax=sns.histplot(allele_summary,ax=axs[1])\n",
    "plt.yscale('log')\n",
    "ax.set_ylabel('Allele acount')\n",
    "ax.set_xlabel('Occurance in # of mouses')\n",
    "ax.set_title(f'Unique fraction={unique_ratio:.3f}')\n",
    "plt.tight_layout()\n",
    "plt.savefig(f'{output_dir}/merge_all/allele_breakdown_by_sample.png')"
   ]
  },
  {
   "cell_type": "code",
   "execution_count": 4,
   "id": "5f5a5db1-af7f-4ea7-9055-c16bb32507bb",
   "metadata": {},
   "outputs": [],
   "source": [
    "my_str='/n/data1/bch/hemonc/camargo/li/DATA/cC_TC_allele'"
   ]
  },
  {
   "cell_type": "code",
   "execution_count": 5,
   "id": "aaaabb64-da7f-47e9-b2e5-c6ddf74da96c",
   "metadata": {},
   "outputs": [
    {
     "data": {
      "text/plain": [
       "'cC_TC_allele'"
      ]
     },
     "execution_count": 5,
     "metadata": {},
     "output_type": "execute_result"
    }
   ],
   "source": [
    "my_str.split('/DATA/')[1].split('/')[0]"
   ]
  },
  {
   "cell_type": "code",
   "execution_count": 7,
   "id": "e962a131-332e-42ed-a6bc-b47bcf83dc40",
   "metadata": {},
   "outputs": [
    {
     "name": "stdout",
     "output_type": "stream",
     "text": [
      "total 864\n",
      "-rw-rw-r-- 1 ll346 ll346   323 Oct 15 15:22 clean_o2_data.sh\n",
      "-rw-rw-r-- 1 ll346 ll346  1043 Oct 14 23:21 config.yaml\n",
      "-rw-rw-r-- 1 ll346 ll346 42691 Oct 13 12:57 dag.svg\n",
      "-rw-rw-r-- 1 ll346 ll346     0 Oct 13 19:47 download_fastq.done\n",
      "-rwxrwxr-x 1 ll346 ll346   269 Oct 15 16:17 download_fastq.sh\n",
      "-rw-rw-r-- 1 ll346 ll346     0 Oct 13 19:47 fastqc_before_pear.done\n",
      "-rw-rw-r-- 1 ll346 ll346   337 Oct 14 23:03 generate_csv.sh\n",
      "-rw-rw-r-- 1 ll346 ll346  1084 Oct 14 23:37 get_sample_info.py\n",
      "-rw-rw-r-- 1 ll346 ll346   724 Oct 15 19:46 help_functions.py\n",
      "-rw-rw-r-- 1 ll346 ll346  5328 Oct 15 00:13 make_more_plots.py\n",
      "-rw-rw-r-- 1 ll346 ll346   368 Oct 14 22:55 merge_sample.sh\n",
      "-rw-rw-r-- 1 ll346 ll346  2427 Oct 15 16:41 README.md\n",
      "-rw-rw-r-- 1 ll346 ll346  1919 Oct 13 19:47 run_CARLIN.sh\n",
      "-rw-rw-r-- 1 ll346 ll346   313 Oct 13 19:47 run_fastqc.sh\n",
      "-rw-rw-r-- 1 ll346 ll346   289 Oct 13 19:47 run_multiqc.sh\n",
      "-rw-rw-r-- 1 ll346 ll346   655 Oct 13 19:47 run_pear.sh\n",
      "-rw-rw-r-- 1 ll346 ll346  3043 Oct"
     ]
    },
    {
     "data": {
      "text/plain": [
       "0"
      ]
     },
     "execution_count": 7,
     "metadata": {},
     "output_type": "execute_result"
    },
    {
     "name": "stdout",
     "output_type": "stream",
     "text": [
      " 15 19:14 Snakefile_downstream.py\n",
      "-rw-rw-r-- 1 ll346 ll346   810 Oct 14 23:35 Snakefile_get_data.py\n",
      "-rw-rw-r-- 1 ll346 ll346  4852 Oct 15 19:45 Snakefile_QC_CARLIN.py\n",
      "-rw-rw-r-- 1 ll346 ll346   382 Oct 15 19:36 switch_CARLIN_template.sh\n",
      "-rw-rw-r-- 1 ll346 ll346   513 Oct 15 16:31 transfer_data.sh\n",
      "-rw-rw-r-- 1 ll346 ll346 49304 Oct 15 16:28 Untitled.ipynb\n"
     ]
    }
   ],
   "source": [
    "import os\n",
    "os.system('ls -l')"
   ]
  },
  {
   "cell_type": "code",
   "execution_count": 3,
   "id": "1e87de84-c63a-4faf-80cb-24a56a80d9eb",
   "metadata": {},
   "outputs": [],
   "source": [
    "import os\n",
    "os.makedirs(f'1',exist_ok=True)"
   ]
  },
  {
   "cell_type": "code",
   "execution_count": 1,
   "id": "45ff5854-07f2-48d2-88af-24086cda9223",
   "metadata": {},
   "outputs": [],
   "source": [
    "import smtplib, ssl"
   ]
  },
  {
   "cell_type": "code",
   "execution_count": 2,
   "id": "55f78f00-6334-4d5f-8be1-b45fe0c38025",
   "metadata": {},
   "outputs": [],
   "source": [
    "import help_functions as hf"
   ]
  },
  {
   "cell_type": "code",
   "execution_count": 3,
   "id": "3f35bb2f-44b2-454d-bbdf-45cd9ab545bc",
   "metadata": {},
   "outputs": [
    {
     "name": "stdout",
     "output_type": "stream",
     "text": [
      "o2 messages\n"
     ]
    }
   ],
   "source": [
    "hf.training_notification(msg=\"o2 messages\")"
   ]
  },
  {
   "cell_type": "code",
   "execution_count": 4,
   "id": "0c77384a-47f4-4590-aa05-7b8367fa66b4",
   "metadata": {},
   "outputs": [
    {
     "name": "stdout",
     "output_type": "stream",
     "text": [
      "o2 messages---\n"
     ]
    }
   ],
   "source": [
    "hf.training_notification(msg=\"o2 messages---\")"
   ]
  },
  {
   "cell_type": "code",
   "execution_count": 5,
   "id": "1164ac85-4cd5-4207-840c-11900a63c6e0",
   "metadata": {},
   "outputs": [
    {
     "name": "stdout",
     "output_type": "stream",
     "text": [
      "o2 messages\n"
     ]
    }
   ],
   "source": [
    "hf.training_notification(msg=\"o2 messages\",to_addr=\"wangsw09@gmail.com\")"
   ]
  },
  {
   "cell_type": "code",
   "execution_count": 1,
   "id": "4c787229-04ba-4cde-b80d-5c4e0e1460e7",
   "metadata": {},
   "outputs": [
    {
     "data": {
      "text/plain": [
       "['results_cutoff_override_3', 'results_cutoff_override_10']"
      ]
     },
     "execution_count": 1,
     "metadata": {},
     "output_type": "execute_result"
    }
   ],
   "source": [
    "import os\n",
    "os.listdir('/n/data1/bch/hemonc/camargo/li/DATA/clean_up_data/20191125_Bulk_CARLIN/DNA/CARLIN')"
   ]
  },
  {
   "cell_type": "code",
   "execution_count": null,
   "id": "6999f5de-4503-46ac-b2cb-f27786ee07db",
   "metadata": {},
   "outputs": [],
   "source": []
  }
 ],
 "metadata": {
  "kernelspec": {
   "display_name": "Python 3 (ipykernel)",
   "language": "python",
   "name": "python3"
  },
  "language_info": {
   "codemirror_mode": {
    "name": "ipython",
    "version": 3
   },
   "file_extension": ".py",
   "mimetype": "text/x-python",
   "name": "python",
   "nbconvert_exporter": "python",
   "pygments_lexer": "ipython3",
   "version": "3.9.7"
  }
 },
 "nbformat": 4,
 "nbformat_minor": 5
}
